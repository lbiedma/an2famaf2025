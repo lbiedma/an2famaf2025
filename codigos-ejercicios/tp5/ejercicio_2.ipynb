{
 "cells": [
  {
   "cell_type": "markdown",
   "id": "7e307f82",
   "metadata": {},
   "source": [
    "Ejercicio 2"
   ]
  },
  {
   "cell_type": "markdown",
   "id": "cb6787dd",
   "metadata": {},
   "source": [
    "Dado $\\epsilon > 0$ $A \\in \\mathbb{R}^{m \\times n}$ de rango $r < min\\{m, n\\}$, existe $A_{\\epsilon} \\in \\mathbb{R}^{m \\times n}$ de rango $min\\{m,n\\}$ tal que \n",
    "\n",
    "$$\n",
    "||A -A_{\\epsilon}||_2 < \\epsilon\n",
    "$$ "
   ]
  },
  {
   "cell_type": "markdown",
   "id": "78f89640",
   "metadata": {},
   "source": [
    "$A = U \\Sigma V^T$\n",
    "\n",
    "$$\n",
    "\\Sigma = \n",
    "\\begin{bmatrix}\n",
    "\\sigma_1 & 0 &  0 &\\cdots & 0 &\\cdots & 0\\\\\n",
    "0  & \\sigma_2 & 0 & \\cdots & 0 &\\cdots & 0\\\\\n",
    "\\vdots  & \\vdots & \\ddots & & \\vdots & \\\\\n",
    "0  & \\cdots &  & \\sigma_r & 0 &\\cdots & 0\\\\\n",
    "\\vdots  & \\vdots & \\vdots & \\vdots & \\ddots &  & \\vdots \\\\\n",
    "0  & \\cdots & 0 & \\cdots & 0 &\\cdots & 0\\\\\n",
    "\\end{bmatrix}\n",
    "$$"
   ]
  },
  {
   "cell_type": "markdown",
   "id": "f5d062fd",
   "metadata": {},
   "source": [
    "\n",
    "$$\n",
    "\\Sigma_{\\epsilon} = \n",
    "\\begin{bmatrix}\n",
    "\\sigma_1 & 0 &  0 &\\cdots & 0 &\\cdots & 0\\\\\n",
    "0  & \\sigma_2 & 0 & \\cdots & 0 &\\cdots & 0\\\\\n",
    "\\vdots  & \\vdots & \\ddots & & \\vdots & \\\\\n",
    "0  & \\cdots &  & \\sigma_r & 0 &\\cdots & 0\\\\\n",
    "0  & \\cdots &  & 0 & \\epsilon /2 &\\cdots & 0\\\\\n",
    "\\vdots  & \\vdots & \\vdots & \\vdots & \\ddots &  & \\vdots \\\\\n",
    "0  & \\cdots & 0 & \\cdots & 0 &\\cdots & \\epsilon / 2\\\\\n",
    "\\end{bmatrix}\n",
    "$$"
   ]
  },
  {
   "cell_type": "markdown",
   "id": "0e5fe73f",
   "metadata": {},
   "source": [
    "Definimos $A_{\\epsilon} = U\\Sigma_{\\epsilon}V^T$\n"
   ]
  },
  {
   "cell_type": "markdown",
   "id": "ceeb5961",
   "metadata": {},
   "source": [
    "$A - A_{\\epsilon} =  U\\Sigma V^T - U\\Sigma_{\\epsilon}V^T = U(\\Sigma - \\Sigma_{\\epsilon})V^T$"
   ]
  },
  {
   "cell_type": "markdown",
   "id": "0380bd53",
   "metadata": {},
   "source": [
    "Aplicando norma 2 "
   ]
  },
  {
   "cell_type": "markdown",
   "id": "6520e1a6",
   "metadata": {},
   "source": [
    "$||U(\\Sigma - \\Sigma_{\\epsilon})V^T||_2 = ||\\Sigma - \\Sigma_{\\epsilon}||_2 = \\epsilon /2 < \\epsilon$"
   ]
  },
  {
   "cell_type": "markdown",
   "id": "e68d1c4e",
   "metadata": {},
   "source": [
    "Ejercico 3 "
   ]
  },
  {
   "cell_type": "markdown",
   "id": "8083eb24",
   "metadata": {},
   "source": [
    "$A^TA -\\lambda I = V\\Sigma U^T U\\Sigma V^T -\\lambda I =  V\\Sigma^2 V^T - \\lambda I$"
   ]
  }
 ],
 "metadata": {
  "language_info": {
   "name": "python"
  }
 },
 "nbformat": 4,
 "nbformat_minor": 5
}
