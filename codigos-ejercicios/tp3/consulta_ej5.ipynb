{
 "cells": [
  {
   "cell_type": "markdown",
   "id": "56f04b0a",
   "metadata": {},
   "source": [
    "$Ax=b$, si aplicamos QR, QRx=b. Sabemos que Q es ortogonal, se multiplica Q.T en ambos mienbros se obtiene que \n",
    "\n",
    "$$\n",
    "Q^TQR x= Q^Tb\n",
    "$$ \n",
    "\n",
    "Nos queda el sistema triangular \n",
    "\n",
    "$$\n",
    "R x= Q^Tb\n",
    "$$ \n",
    "\n",
    "$R = Q^TA$ suponiendo que $A$ es cuadrada.\n",
    "\n",
    "$Q = [Q_1 Q_2]$ y $R = [R_1 0]^T$ donde $R_1$ es cuadrada\n",
    "\n",
    "$$\n",
    "QR = [Q_1 Q_2]\n",
    "\\begin{bmatrix}\n",
    "R_1\\\\\n",
    "0\\\\\n",
    "\\end{bmatrix}\n",
    "= Q_1R_1 = A\n",
    "$$\n"
   ]
  },
  {
   "cell_type": "markdown",
   "id": "28e5efc3",
   "metadata": {},
   "source": [
    "Ejercicio 5 p4\n",
    "\n",
    "debemos obtener $min ||Ax-b||_2^2 = ||d||_2^2-\\dfrac{(v^Td)^2}{||v||_2^2}$\n",
    "\n",
    "Supongamos $x = [x_1\\;  x_2]^T$ \n",
    "\n",
    "$$\n",
    "Ax- b =\n",
    "\\begin{bmatrix}\n",
    "R & w\\\\\n",
    "0 & v\\\\\n",
    "\\end{bmatrix}\n",
    " \n",
    " = A\n",
    "$$\n",
    "\n",
    "\n"
   ]
  }
 ],
 "metadata": {
  "language_info": {
   "name": "python"
  }
 },
 "nbformat": 4,
 "nbformat_minor": 5
}
