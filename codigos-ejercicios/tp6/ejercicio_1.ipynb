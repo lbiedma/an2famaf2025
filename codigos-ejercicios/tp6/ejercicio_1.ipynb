{
 "cells": [
  {
   "cell_type": "markdown",
   "id": "d5de14f8",
   "metadata": {},
   "source": [
    "Ejercicio 1"
   ]
  },
  {
   "cell_type": "markdown",
   "id": "50a64148",
   "metadata": {},
   "source": [
    "Sea $A$ simetrica y $Av = \\lambda v$ donde $\\lambda$ es autovalor y $v$ autovector de $A$ "
   ]
  },
  {
   "cell_type": "markdown",
   "id": "6f03c4b5",
   "metadata": {},
   "source": [
    "Probar: $\\hat{A} = A - \\lambda v v^T $ es simetrica "
   ]
  },
  {
   "cell_type": "markdown",
   "id": "61d24ca2",
   "metadata": {},
   "source": [
    "$\\hat{A}^T = (A- \\lambda vv^T)^T = A^T - \\lambda (vv^T)^T = A - \\lambda v v^T = \\hat{A}$. Por lo tanto, $\\hat{A}$ es simétrica.  "
   ]
  },
  {
   "cell_type": "markdown",
   "id": "041ed25b",
   "metadata": {},
   "source": [
    "Probar: $\\hat{A}$ tiene los mismos autovalores que $A$ salvo $\\lambda$"
   ]
  },
  {
   "cell_type": "markdown",
   "id": "dfb84a9b",
   "metadata": {},
   "source": [
    "Como es simétrica $A$ tenemos una base diagonalizable ortonormal \n",
    "Supongamos que $\\hat{v}$ un autovector de $A$ distinto a $v$. \n",
    "\n",
    "$$\\hat{A}\\hat{v} = (A - \\lambda vv^T)\\hat{v} = A\\hat{v} - \\lambda v(v^T\\hat{v})$$\n",
    "\n",
    "Como $v^T\\hat{v} = 0$, por la base ortonormal, nos queda lo siguiente \n",
    "\n",
    "$$\n",
    "\\hat{A}\\hat{v} = A\\hat{v} - 0 = \\hat{\\lambda}\\hat{v}\n",
    "$$\n",
    "\n",
    "Por lo tanto, esto vale para todo $\\hat{\\lambda}$ distinto de $\\lambda$.  "
   ]
  },
  {
   "cell_type": "markdown",
   "id": "841c5226",
   "metadata": {},
   "source": [
    "Ahora que pasa si es $v$ autovector asociado a $\\lambda$:"
   ]
  },
  {
   "cell_type": "markdown",
   "id": "917e2d52",
   "metadata": {},
   "source": [
    "\n",
    "$$\\hat{A}v = (A - \\lambda vv^T)v = Av - \\lambda v(v^Tv) = 0 $$\n"
   ]
  }
 ],
 "metadata": {
  "language_info": {
   "name": "python"
  }
 },
 "nbformat": 4,
 "nbformat_minor": 5
}
