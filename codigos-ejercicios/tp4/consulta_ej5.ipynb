{
 "cells": [
  {
   "cell_type": "markdown",
   "id": "56f04b0a",
   "metadata": {},
   "source": [
    "$Ax=b$, si aplicamos QR, $QRx=b$. Sabemos que $Q$ es ortogonal, se multiplica $Q^T$ en ambos mienbros se obtiene que \n",
    "\n",
    "$$\n",
    "Q^TQR x= Q^Tb\n",
    "$$ \n",
    "\n",
    "Nos queda el sistema triangular \n",
    "\n",
    "$$\n",
    "R x= Q^Tb\n",
    "$$ \n",
    "\n",
    "$R = Q^TA$ suponiendo que $A$ es cuadrada.\n",
    "\n",
    "$Q = [Q_1 Q_2]$ y $R = [R_1 0]^T$ donde $R_1$ es cuadrada\n",
    "\n",
    "$$\n",
    "QR = [Q_1 Q_2]\n",
    "\\begin{bmatrix}\n",
    "R_1\\\\\n",
    "0\\\\\n",
    "\\end{bmatrix}\n",
    "= Q_1R_1 = A\n",
    "$$\n"
   ]
  },
  {
   "cell_type": "markdown",
   "id": "28e5efc3",
   "metadata": {},
   "source": [
    "Ejercicio 5 p4\n",
    "\n",
    "debemos obtener $min ||Ax-b||_2^2 = ||d||_2^2-\\dfrac{(v^Td)^2}{||v||_2^2}$\n",
    "\n",
    "Supongamos $x = [x_1\\;  x_2]^T \\in \\mathbb{R}^n$ \n",
    "\n",
    "$$\n",
    "Ax- b =\n",
    "\\begin{bmatrix}\n",
    "\\overset{n-1}{R} & \\overset{1}{w}\\\\\n",
    "0 & v\\\\\n",
    "\\end{bmatrix}\n",
    "\n",
    "\\begin{bmatrix}\n",
    "x_1 \\\\\n",
    "x_2 \\\\\n",
    "\\end{bmatrix}\n",
    "\n",
    "\\begin{matrix}\n",
    "n-1 \\\\\n",
    "1 \\\\\n",
    "\\end{matrix}\n",
    "\n",
    "- \n",
    "\\begin{bmatrix}\n",
    "c \\\\\n",
    "d \\\\\n",
    "\\end{bmatrix}\n",
    "\n",
    "$$\n",
    "\n",
    "\n"
   ]
  },
  {
   "cell_type": "markdown",
   "id": "5ebdc92f",
   "metadata": {},
   "source": [
    "\n",
    "$$\n",
    "\\begin{bmatrix}\n",
    "Rx_1+ wx_2 - c\\\\\n",
    " vx_2 - d\\\\\n",
    "\\end{bmatrix}\n",
    "$$"
   ]
  },
  {
   "cell_type": "markdown",
   "id": "1ee07e2e",
   "metadata": {},
   "source": [
    "Si yo aplico norma 2 al cuadrado al resultado anterior se obtiene lo siguiente:\n",
    "\n",
    "$$\n",
    "\\left|\\left|\\begin{bmatrix}\n",
    "Rx_1+ wx_2 - c\\\\\n",
    " vx_2 - d\\\\\n",
    "\\end{bmatrix}\n",
    "\\right|\\right|_2^2\n",
    "$$"
   ]
  },
  {
   "cell_type": "markdown",
   "id": "6e21b32e",
   "metadata": {},
   "source": [
    "\n",
    "$$\n",
    "[(Rx_1+ wx_2 - c)^T\\;\n",
    " (vx_2 - d)^T]\n",
    "\n",
    "\\begin{bmatrix}\n",
    "Rx_1+ wx_2 - c\\\\\n",
    " vx_2 - d\\\\\n",
    "\\end{bmatrix}\n",
    "\n",
    "$$"
   ]
  },
  {
   "cell_type": "markdown",
   "id": "d0aac5d2",
   "metadata": {},
   "source": [
    "$$\n",
    "||Rx_1+ wx_2 - c||_2^2 + ||vx_2 - d||_2^2\n",
    "$$"
   ]
  },
  {
   "cell_type": "markdown",
   "id": "4fc3b10d",
   "metadata": {},
   "source": [
    "Como $A$ es de rango completo el sistema \n",
    "\n",
    "$$ \n",
    "Rx_1 + wx_2 = c\n",
    "$$ \n",
    "\n",
    "tiene una solución y es única, por lo tanto, cuando aplicamos minimización la mejor aproximación es la misma solución. Luego, para este sistema la norma va a ser nula.\n",
    "\n",
    "Aplicando minimización nos queda que \n",
    "\n",
    "$$\n",
    "min ||Ax-b||_2^2 = ||vx_2 - d||_2^2\n",
    "$$"
   ]
  },
  {
   "cell_type": "markdown",
   "id": "e4672356",
   "metadata": {},
   "source": [
    "$(vx_2 - d)^T(vx_2 - d) = $"
   ]
  },
  {
   "cell_type": "markdown",
   "id": "10fa96d1",
   "metadata": {},
   "source": [
    "$= v^Tvx_2^2 - v^Tx_2d -d^Tv x_2 + d^Td$\n",
    "\n",
    "$= v^Tvx_2^2 - 2v^Tdx_2 + d^Td$"
   ]
  },
  {
   "cell_type": "markdown",
   "id": "b8d36745",
   "metadata": {},
   "source": [
    "el minimo de la cuadratica se alcanza en el vertice\n",
    "\n",
    "$$\n",
    "\\hat{x}_2 = \\dfrac{v^Td}{v^Tv} = \\dfrac{v^Td}{||v||_2^2} \n"
   ]
  },
  {
   "cell_type": "markdown",
   "id": "04469b91",
   "metadata": {},
   "source": [
    "entonces si reemplazamo el minimo nos queda"
   ]
  },
  {
   "cell_type": "markdown",
   "id": "ce349bef",
   "metadata": {},
   "source": [
    "\n",
    "$= v^Tv\\left(\\dfrac{v^Td}{||v||_2^2}\\right)^2 - 2v^Td\\dfrac{v^Td}{||v||_2^2} + d^Td$"
   ]
  },
  {
   "cell_type": "markdown",
   "id": "1e3fe7c8",
   "metadata": {},
   "source": [
    "\n",
    "$= \\dfrac{(v^Td)^2}{||v||_2^2} - 2\\dfrac{(v^Td)^2}{||v||_2^2} + d^Td$"
   ]
  },
  {
   "cell_type": "markdown",
   "id": "3748b39f",
   "metadata": {},
   "source": [
    "\n",
    "$=  d^Td- \\dfrac{(v^Td)^2}{||v||_2^2}$"
   ]
  }
 ],
 "metadata": {
  "language_info": {
   "name": "python"
  }
 },
 "nbformat": 4,
 "nbformat_minor": 5
}
